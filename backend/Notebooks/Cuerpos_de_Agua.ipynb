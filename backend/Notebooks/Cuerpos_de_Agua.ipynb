{
 "cells": [
  {
   "cell_type": "code",
   "id": "initial_id",
   "metadata": {
    "collapsed": true,
    "ExecuteTime": {
     "end_time": "2024-10-06T22:19:19.239134Z",
     "start_time": "2024-10-06T22:19:18.158155Z"
    }
   },
   "source": [
    "import openpyxl\n",
    "from pyproj import Transformer\n",
    "import json\n",
    "\n",
    "# Crear un transformador de coordenadas de UTM (Zona 18S) a WGS84 (latitud/longitud)\n",
    "transformer = Transformer.from_crs(\"EPSG:32718\", \"EPSG:4326\", always_xy=True)\n",
    "\n",
    "# Función para convertir coordenadas UTM a latitud y longitud\n",
    "def utm_to_latlon(east, north):\n",
    "    lon, lat = transformer.transform(east, north)\n",
    "    return lat, lon\n",
    "\n",
    "# Leer el archivo Excel y convertir los datos\n",
    "def process_water_bodies(file_path):\n",
    "    water_bodies = []\n",
    "    # Cargar el archivo Excel\n",
    "    workbook = openpyxl.load_workbook(file_path)\n",
    "    sheet = workbook.active  # Usar la hoja activa\n",
    "\n",
    "    # Obtener los encabezados\n",
    "    headers = [cell.value for cell in sheet[1]]\n",
    "\n",
    "    # Iterar sobre las filas de datos\n",
    "    for row in sheet.iter_rows(min_row=2, values_only=True):\n",
    "        row_data = dict(zip(headers, row))\n",
    "        \n",
    "        # Convertir valores a float y manejar excepciones\n",
    "        try:\n",
    "            east = float(row_data['ESTE'])\n",
    "            north = float(row_data['NORTE'])\n",
    "        except (ValueError, TypeError) as e:\n",
    "            print(f\"Error en las coordenadas UTM: {e}\")\n",
    "            continue\n",
    "        \n",
    "        lat, lon = utm_to_latlon(east, north)\n",
    "        \n",
    "        water_bodies.append({\n",
    "            \"name\": row_data['NOMBRE DEL RECURSO HÍDRICO'],\n",
    "            \"description\": row_data['DESCRIPCION'],\n",
    "            \"coordinates\": [lat, lon],\n",
    "            \"altitude\": int(row_data['ALTITUD m.s.n.m.']),\n",
    "            \"category\": row_data['CLASIFICACÍON DE CUERPOS DE AGUA']\n",
    "        })\n",
    "    return water_bodies\n",
    "\n",
    "# Guardar los datos en formato JSON\n",
    "def save_to_json(data, output_path):\n",
    "    with open(output_path, 'w', encoding='utf-8') as json_file:\n",
    "        json.dump(data, json_file, ensure_ascii=False, indent=4)\n",
    "\n",
    "# Archivo de entrada\n",
    "file_path = \"../dataset/RedMonitoreo6102024115440.xlsx\"\n",
    "# Archivo de salida\n",
    "output_json_path = \"../dataset/agua_cuerpos.json\"\n",
    "\n",
    "# Convertir los puntos de agua y guardarlos en JSON\n",
    "water_bodies = process_water_bodies(file_path)\n",
    "save_to_json(water_bodies, output_json_path)\n",
    "\n",
    "# Mostrar los primeros 5 cuerpos de agua convertidos\n",
    "for water_body in water_bodies[:5]:\n",
    "    print(water_body)\n"
   ],
   "outputs": [
    {
     "name": "stdout",
     "output_type": "stream",
     "text": [
      "{'name': 'VILCANOTA', 'description': 'Río Vilcanota, aguas abajo km 107 Machupicchu', 'coordinates': [-13.177676167759769, -72.53150439410855], 'altitude': 2167, 'category': 'Categoría 4'}\n",
      "{'name': 'Vilcanota', 'description': 'Río Vilcanota, km 104 de la línea ferrea de Ollantaytambo a Machupicchu.\\n', 'coordinates': [-13.185673522211403, -72.51110174671373], 'altitude': 2193, 'category': 'Categoría 4'}\n",
      "{'name': 'Vilcanota', 'description': 'Río Vilcanota; aproximadamente a 2 km aguas arriba del centro poblado Machupicchu Pueblo.\\n', 'coordinates': [-13.160995322058966, -72.5228390092081], 'altitude': 2092, 'category': 'Categoría 4'}\n",
      "{'name': 'Vilcanota', 'description': 'Rio Vilcanota; aproximadamente a 400 m aguas abajo del centro poblado de Machupicchu Pueblo.', 'coordinates': [-13.156418960468134, -72.53079544387526], 'altitude': 2083, 'category': 'Categoría 4'}\n",
      "{'name': 'VILCANOTA', 'description': 'Río Vilcanota 350 m aprox. Aguas abajo del vertimiento de aguas residuales de Santuary Lodge- margen derecha siguiendo las rieles del tren', 'coordinates': [-13.15822038714648, -72.54150919624414], 'altitude': 1993, 'category': 'Categoría 4'}\n"
     ]
    }
   ],
   "execution_count": 1
  },
  {
   "metadata": {
    "ExecuteTime": {
     "end_time": "2024-10-06T20:20:15.483598Z",
     "start_time": "2024-10-06T20:20:15.475525Z"
    }
   },
   "cell_type": "code",
   "source": "water_body",
   "id": "133dec383cc51912",
   "outputs": [
    {
     "data": {
      "text/plain": [
       "{'name': 'VILCANOTA',\n",
       " 'description': 'Río Vilcanota 350 m aprox. Aguas abajo del vertimiento de aguas residuales de Santuary Lodge- margen derecha siguiendo las rieles del tren',\n",
       " 'coordinates': [-13.15822038714648, -72.54150919624414],\n",
       " 'altitude': 1993,\n",
       " 'category': 'Categoría 4'}"
      ]
     },
     "execution_count": 3,
     "metadata": {},
     "output_type": "execute_result"
    }
   ],
   "execution_count": 3
  }
 ],
 "metadata": {
  "kernelspec": {
   "display_name": "Python 3",
   "language": "python",
   "name": "python3"
  },
  "language_info": {
   "codemirror_mode": {
    "name": "ipython",
    "version": 2
   },
   "file_extension": ".py",
   "mimetype": "text/x-python",
   "name": "python",
   "nbconvert_exporter": "python",
   "pygments_lexer": "ipython2",
   "version": "2.7.6"
  }
 },
 "nbformat": 4,
 "nbformat_minor": 5
}
